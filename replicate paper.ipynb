{
 "cells": [
  {
   "cell_type": "markdown",
   "metadata": {},
   "source": [
    "### Introduction"
   ]
  },
  {
   "cell_type": "markdown",
   "metadata": {},
   "source": [
    "This is a recomputation of results from The elasticity of interest rate volatility published by Robert Bliss and David Smith. The authors set out two to accomplish two objectives in their paper\n",
    " - Prove that there was a structural shift in interest rates in October 1979 after the Federal reserver experiment.\n",
    " - Confirm that the elasiticity of interest rates is 1.5 as was widely accepted by previous reseachers\n",
    "\n",
    "The relation between the volatility of changes in interest rates and their level is termed the elasticity of interest rate volatility. \n",
    "The authors acknowlesdge the inherrent problem of testing a structural shift that tests for evidence of structural\n",
    "shifts are necessarily joint tests of the shift/no-shift hypotheses and a particular model of the process being studied\n",
    " \n"
   ]
  },
  {
   "cell_type": "markdown",
   "metadata": {},
   "source": [
    "### Methodology"
   ]
  },
  {
   "cell_type": "markdown",
   "metadata": {},
   "source": [
    "The authors approach their problem using a single factor diffusion process expressed as:\n",
    "$$dr = \\kappa(\\mu-r)dt + \\sigma^{\\lambda}dz$$\n",
    "For estimiation purposes the model is discretized using euler's method as:\n",
    "$$r_{t}-r{t-1}=\\alpha + \\beta r_{t-1} +\\epsilon_{t}$$\n",
    "$$\\epsilon^{2}=\\sigma^{2}r^{2\\lambda}_{t-1} + \\eta_{t}$$\n",
    "The same approach is used here but without going into testing the special cases of the model where $\\alpha$, $\\sigma$, $\\lambda$ are restricted to the special values in Merton, Vasicek and other models flavours."
   ]
  },
  {
   "cell_type": "markdown",
   "metadata": {},
   "source": [
    "### Data"
   ]
  },
  {
   "cell_type": "markdown",
   "metadata": {},
   "source": [
    "The examination is done using the data from the same sample period as the authors: 1-month Treasury Bill series taken from the 12-month Fama Treasury Bill Files included in the Center for Research in Security Prices (CRSP) monthly Government Bonds Files. We initially restrict our analysis to the June 1964 through December 1989 period to ensure comparability with CKLS."
   ]
  },
  {
   "cell_type": "code",
   "execution_count": 32,
   "metadata": {},
   "outputs": [
    {
     "name": "stdout",
     "output_type": "stream",
     "text": [
      "<class 'pandas.core.frame.DataFrame'>\n",
      "Adj Close    float64\n",
      "dtype: object\n",
      "Data contains: 307 records\n"
     ]
    },
    {
     "data": {
      "text/html": [
       "<div>\n",
       "<style scoped>\n",
       "    .dataframe tbody tr th:only-of-type {\n",
       "        vertical-align: middle;\n",
       "    }\n",
       "\n",
       "    .dataframe tbody tr th {\n",
       "        vertical-align: top;\n",
       "    }\n",
       "\n",
       "    .dataframe thead th {\n",
       "        text-align: right;\n",
       "    }\n",
       "</style>\n",
       "<table border=\"1\" class=\"dataframe\">\n",
       "  <thead>\n",
       "    <tr style=\"text-align: right;\">\n",
       "      <th></th>\n",
       "      <th>Adj Close</th>\n",
       "      <th>rt-1</th>\n",
       "      <th>y</th>\n",
       "      <th>intercept</th>\n",
       "    </tr>\n",
       "    <tr>\n",
       "      <th>Date</th>\n",
       "      <th></th>\n",
       "      <th></th>\n",
       "      <th></th>\n",
       "      <th></th>\n",
       "    </tr>\n",
       "  </thead>\n",
       "  <tbody>\n",
       "    <tr>\n",
       "      <th>1964-07-01</th>\n",
       "      <td>0.0347</td>\n",
       "      <td>0.0347</td>\n",
       "      <td>0.0000</td>\n",
       "      <td>1</td>\n",
       "    </tr>\n",
       "    <tr>\n",
       "      <th>1964-08-01</th>\n",
       "      <td>0.0350</td>\n",
       "      <td>0.0347</td>\n",
       "      <td>0.0003</td>\n",
       "      <td>1</td>\n",
       "    </tr>\n",
       "    <tr>\n",
       "      <th>1964-09-01</th>\n",
       "      <td>0.0355</td>\n",
       "      <td>0.0350</td>\n",
       "      <td>0.0005</td>\n",
       "      <td>1</td>\n",
       "    </tr>\n",
       "    <tr>\n",
       "      <th>1964-10-01</th>\n",
       "      <td>0.0355</td>\n",
       "      <td>0.0355</td>\n",
       "      <td>0.0000</td>\n",
       "      <td>1</td>\n",
       "    </tr>\n",
       "    <tr>\n",
       "      <th>1964-11-01</th>\n",
       "      <td>0.0384</td>\n",
       "      <td>0.0355</td>\n",
       "      <td>0.0029</td>\n",
       "      <td>1</td>\n",
       "    </tr>\n",
       "  </tbody>\n",
       "</table>\n",
       "</div>"
      ],
      "text/plain": [
       "            Adj Close    rt-1       y  intercept\n",
       "Date                                            \n",
       "1964-07-01     0.0347  0.0347  0.0000          1\n",
       "1964-08-01     0.0350  0.0347  0.0003          1\n",
       "1964-09-01     0.0355  0.0350  0.0005          1\n",
       "1964-10-01     0.0355  0.0355  0.0000          1\n",
       "1964-11-01     0.0384  0.0355  0.0029          1"
      ]
     },
     "execution_count": 32,
     "metadata": {},
     "output_type": "execute_result"
    }
   ],
   "source": [
    "%config IPCompleter.greedy=True\n",
    "\n",
    "import pandas as pd\n",
    "rates = pd.read_csv('./Monthly TBills.csv', index_col='Date', usecols=['Date','Adj Close'])\n",
    "rates['Adj Close'] /=100 \n",
    "# ensure is a dtaframe not series\n",
    "print(type(rates))\n",
    "# ensure type is float\n",
    "print(rates.dtypes)\n",
    "\n",
    "#check for null\n",
    "assert len(rates.loc[pd.isnull(rates['Adj Close']),:])==0\n",
    "\n",
    "#\n",
    "print(f\"Data contains: {len(rates)} records\")\n",
    "\n",
    "## prepare columns for GMM\n",
    "rates['rt-1'] = rates.shift(1).fillna(0)\n",
    "rates['y'] = rates['Adj Close'] -rates['rt-1']\n",
    "# remove first row\n",
    "rates = rates.iloc[1:, :]\n",
    "rates['intercept'] = 1\n",
    "\n",
    "rates.head()"
   ]
  },
  {
   "cell_type": "markdown",
   "metadata": {},
   "source": [
    "### Model Estimation and testing"
   ]
  },
  {
   "cell_type": "markdown",
   "metadata": {},
   "source": [
    "The model is estimated using the GMM method described as:\n",
    "$$g_{t}(\\theta) = [\\epsilon_{t},\\epsilon_{t}r_{t-1},\\eta_{t},\\eta_{t} r_{t-1}]$$\n",
    "$$E[g_{t}(\\theta)]=0$$\n",
    "\n",
    "This model is exactly identified because we have 4 moment conditions and 4 parameters in our model."
   ]
  },
  {
   "cell_type": "code",
   "execution_count": 33,
   "metadata": {},
   "outputs": [],
   "source": [
    "from statsmodels.sandbox.regression.gmm import GMM\n",
    "endog = rates.loc[:,'y'].values\n",
    "exog = rates.loc[:,['intercept', 'rt-1']].values"
   ]
  },
  {
   "cell_type": "code",
   "execution_count": 34,
   "metadata": {},
   "outputs": [
    {
     "name": "stdout",
     "output_type": "stream",
     "text": [
      "Optimization terminated successfully.\n",
      "         Current function value: 0.000000\n",
      "         Iterations: 244\n",
      "         Function evaluations: 423\n",
      "Optimization terminated successfully.\n",
      "         Current function value: 0.000000\n",
      "         Iterations: 48\n",
      "         Function evaluations: 92\n"
     ]
    }
   ],
   "source": [
    "class GMMRates(GMM):\n",
    "\n",
    "    def __init__(self, *args, **kwds):\n",
    "        # set appropriate counts for moment conditions and parameters\n",
    "        # TODO: clean up signature\n",
    "        # kwds.setdefault('k_moms', 4)\n",
    "        # kwds.setdefault('k_params', 4)\n",
    "        super(GMMRates, self).__init__(*args, **kwds)\n",
    "\n",
    "\n",
    "    def momcond(self, params):\n",
    "        alpha, beta, sigma, lambda_ = params\n",
    "        \n",
    "        endog = self.endog\n",
    "        n = len(endog)\n",
    "        r_t_1 = self.exog[:, 1]\n",
    "        y_hat = alpha  + beta* r_t_1\n",
    "        error = endog - y_hat\n",
    "        corr_error = error * r_t_1\n",
    "        eta = error**2 - (sigma**2)*r_t_1**(2*lambda_)\n",
    "        corr_eta = eta*r_t_1\n",
    "        g = np.column_stack((error.mean(), corr_error.mean(), eta.mean(), corr_eta.mean()))\n",
    "        return g\n",
    "\n",
    "import numpy as np\n",
    "model = GMMRates(endog=endog, exog=exog, instrument=None, k_moms = 4, k_params=4)\n",
    "model.set_param_names([\"alpha\", \"beta\", \"sigma\", \"lambda_\"])\n",
    "\n",
    "beta0 = np.array([0.50,-0.5, np.sqrt(0.167), 1.2 ])\n",
    "res = model.fit(beta0, maxiter=2, optim_method='nm', wargs=dict(centered=False))"
   ]
  },
  {
   "cell_type": "markdown",
   "metadata": {},
   "source": [
    "### Results"
   ]
  },
  {
   "cell_type": "markdown",
   "metadata": {},
   "source": [
    "Parameters estimated from our recomputation are highlighted below:"
   ]
  },
  {
   "cell_type": "code",
   "execution_count": 23,
   "metadata": {
    "jupyter": {
     "source_hidden": true
    }
   },
   "outputs": [
    {
     "name": "stdout",
     "output_type": "stream",
     "text": [
      "Optimization terminated successfully.\n",
      "         Current function value: 0.000000\n",
      "         Iterations: 244\n",
      "         Function evaluations: 423\n",
      "Optimization terminated successfully.\n",
      "         Current function value: 0.000000\n",
      "         Iterations: 48\n",
      "         Function evaluations: 92\n"
     ]
    },
    {
     "data": {
      "text/html": [
       "<table class=\"simpletable\">\n",
       "<caption>GMMRates Results</caption>\n",
       "<tr>\n",
       "  <th>Dep. Variable:</th>            <td>y</td>        <th>  Hansen J:          </th> <td>1.096e-07</td>\n",
       "</tr>\n",
       "<tr>\n",
       "  <th>Model:</th>                <td>GMMRates</td>     <th>  Prob (Hansen J):   </th>  <td>   nan</td>  \n",
       "</tr>\n",
       "<tr>\n",
       "  <th>Method:</th>                  <td>GMM</td>       <th>                     </th>     <td> </td>    \n",
       "</tr>\n",
       "<tr>\n",
       "  <th>Date:</th>             <td>Sat, 30 May 2020</td> <th>                     </th>     <td> </td>    \n",
       "</tr>\n",
       "<tr>\n",
       "  <th>Time:</th>                 <td>11:59:01</td>     <th>                     </th>     <td> </td>    \n",
       "</tr>\n",
       "<tr>\n",
       "  <th>No. Observations:</th>      <td>   306</td>      <th>                     </th>     <td> </td>    \n",
       "</tr>\n",
       "</table>\n",
       "<table class=\"simpletable\">\n",
       "<tr>\n",
       "     <td></td>        <th>coef</th>     <th>std err</th>      <th>z</th>      <th>P>|z|</th>  <th>[0.025</th>    <th>0.975]</th>  \n",
       "</tr>\n",
       "<tr>\n",
       "  <th>alpha</th>   <td>    0.0024</td> <td> 2.57e-09</td> <td> 9.46e+05</td> <td> 0.000</td> <td>    0.002</td> <td>    0.002</td>\n",
       "</tr>\n",
       "<tr>\n",
       "  <th>beta</th>    <td>   -0.0333</td> <td> 1.45e-07</td> <td> -2.3e+05</td> <td> 0.000</td> <td>   -0.033</td> <td>   -0.033</td>\n",
       "</tr>\n",
       "<tr>\n",
       "  <th>sigma</th>   <td>    0.4739</td> <td>    0.000</td> <td> 2635.549</td> <td> 0.000</td> <td>    0.474</td> <td>    0.474</td>\n",
       "</tr>\n",
       "<tr>\n",
       "  <th>lambda_</th> <td>    1.7165</td> <td>    0.000</td> <td> 1.04e+04</td> <td> 0.000</td> <td>    1.716</td> <td>    1.717</td>\n",
       "</tr>\n",
       "</table>"
      ],
      "text/plain": [
       "<class 'statsmodels.iolib.summary.Summary'>\n",
       "\"\"\"\n",
       "                               GMMRates Results                               \n",
       "==============================================================================\n",
       "Dep. Variable:                      y   Hansen J:                    1.096e-07\n",
       "Model:                       GMMRates   Prob (Hansen J):                   nan\n",
       "Method:                           GMM                                         \n",
       "Date:                Sat, 30 May 2020                                         \n",
       "Time:                        11:59:01                                         \n",
       "No. Observations:                 306                                         \n",
       "==============================================================================\n",
       "                 coef    std err          z      P>|z|      [0.025      0.975]\n",
       "------------------------------------------------------------------------------\n",
       "alpha          0.0024   2.57e-09   9.46e+05      0.000       0.002       0.002\n",
       "beta          -0.0333   1.45e-07   -2.3e+05      0.000      -0.033      -0.033\n",
       "sigma          0.4739      0.000   2635.549      0.000       0.474       0.474\n",
       "lambda_        1.7165      0.000   1.04e+04      0.000       1.716       1.717\n",
       "==============================================================================\n",
       "\"\"\""
      ]
     },
     "execution_count": 23,
     "metadata": {},
     "output_type": "execute_result"
    }
   ],
   "source": [
    "res.summary()"
   ]
  },
  {
   "cell_type": "markdown",
   "metadata": {},
   "source": [
    "Contrary to the author's finding of the base model we estimate that $\\lambda=1.7$. All other parameters differ in value but have the same sign."
   ]
  },
  {
   "cell_type": "markdown",
   "metadata": {},
   "source": [
    "### Simulation"
   ]
  },
  {
   "cell_type": "markdown",
   "metadata": {},
   "source": [
    "Below is a comparison of simulated paths of interest rates using our estimated parameters versus those of the Robert and David. "
   ]
  },
  {
   "cell_type": "code",
   "execution_count": 38,
   "metadata": {},
   "outputs": [
    {
     "name": "stderr",
     "output_type": "stream",
     "text": [
      "c:\\users\\rmacharia\\appdata\\local\\programs\\python\\python37\\lib\\site-packages\\ipykernel_launcher.py:32: RuntimeWarning: invalid value encountered in double_scalars\n"
     ]
    },
    {
     "data": {
      "text/plain": [
       "<matplotlib.axes._subplots.AxesSubplot at 0x1b467ca7e80>"
      ]
     },
     "execution_count": 38,
     "metadata": {},
     "output_type": "execute_result"
    },
    {
     "data": {
      "image/png": "[encoded data removed]",
      "text/plain": [
       "<Figure size 432x288 with 1 Axes>"
      ]
     },
     "metadata": {
      "needs_background": "light"
     },
     "output_type": "display_data"
    }
   ],
   "source": [
    "alpha, beta, sigma, lambda_ = res.params\n",
    "\n",
    "last_val = rates.loc[:,'Adj Close'][-1]\n",
    "from dataclasses import dataclass\n",
    "\n",
    "@dataclass\n",
    "class SimulationsGen:\n",
    "\n",
    "    alpha: float\n",
    "    beta:float\n",
    "    sigma:float\n",
    "    lambda_:float\n",
    "    \n",
    "    init_val:float\n",
    "    n:int\n",
    "    sim_count:int\n",
    "    results: list\n",
    "    \n",
    "        \n",
    "    def _get_delta_c_not_working(self, previous_val ):\n",
    "        eta = np.random.standard_normal((1,))[0]\n",
    "        error = (sigma*(previous_val**self.lambda_) )**2  + eta\n",
    "        error = error if error>=0 and not np.isinf(error) else 0.01\n",
    "        \n",
    "        #print(error)\n",
    "        delta_C = self.alpha + self.beta* previous_val \n",
    "        \n",
    "        return delta_C   \n",
    "    \n",
    "    def _get_delta_c(self, previous_val ):\n",
    "        delta_C = self.alpha + self.beta* previous_val  + \\\n",
    "                self.sigma*(previous_val**self.lambda_)*np.random.standard_normal((1,))[0]\n",
    "        delta_C = delta_C if not np.isnan(delta_C)else 0.0\n",
    "        #print(delta_C)\n",
    "        return delta_C   \n",
    "\n",
    "\n",
    "    def _generate_one_simulation(self):\n",
    "        simulation = np.empty(self.n)\n",
    "        simulation[0] = self.init_val\n",
    "        for i in range(1,self.n):\n",
    "            simulation[i] = simulation[i-1] + self._get_delta_c(simulation[i-1])\n",
    "        return simulation\n",
    "    \n",
    "    def generate_many_simulations(self):\n",
    "        self.results = [self._generate_one_simulation() for i in range(self.sim_count)]\n",
    "\n",
    "#our simulation\n",
    "simsOurs = SimulationsGen(alpha=alpha, beta=beta, sigma=sigma, lambda_=lambda_, init_val=last_val, n=500, sim_count=1, results=[])\n",
    "\n",
    "#simulation from the paper\n",
    "simsPaper = SimulationsGen(alpha=0.480, beta=-0.592, sigma=np.sqrt(0.167), lambda_=1.5, init_val=last_val, n=500, sim_count=1, results=[])\n",
    "\n",
    "simsOurs.generate_many_simulations()\n",
    "simsPaper.generate_many_simulations()\n",
    "\n",
    "import matplotlib.pyplot as plt\n",
    "pd.DataFrame({\"Ours\":simsOurs.results[0], \"Paper\":simsPaper.results[0]}).plot(title=\"Comparison of simulation using author's parameters\")"
   ]
  },
  {
   "cell_type": "markdown",
   "metadata": {},
   "source": [
    "The plot above suggests that the author's parameters tend to lead to larger values of the intereats rates."
   ]
  },
  {
   "cell_type": "markdown",
   "metadata": {},
   "source": [
    "### Conslusions and further tests"
   ]
  },
  {
   "cell_type": "markdown",
   "metadata": {},
   "source": [
    "Robert and David had tested various variations of this model that restrict the parameters to particular valus however this examiniation only stops at the base model.\n",
    "\n",
    "In addition, Robert and David test for structural shifts in the term structurre using a dummy variable to represent pre and post experiment periods. The extended model is expresed as:\n",
    "$$r_{t}-r{t-1}=(\\alpha+\\delta_{1}D_{t}) + (\\beta+\\delta_{2}D_{t}) r_{t-1} +\\epsilon_{t}$$\n",
    "$$\\epsilon^{2}=(\\sigma^{2}+\\delta_{3}D_{t})r^{(2\\lambda+\\delta_{4}D_{t})}_{t-1} + \\eta_{t}$$\n",
    "\n",
    "This extended model is also estimated using GMM with the moment condition:\n",
    "$$g_{t}(\\theta) = [\\epsilon_{t},\\epsilon_{t}D_{t},\\epsilon_{t}r_{t-1},\\epsilon_{t}D_{t}r_{t-1},\\eta_{t},\\eta_{t}D_{t},\\eta_{t} r_{t-1},\\eta_{t}D_{t} r_{t-1}]$$\n",
    "$$E[g_{t}(\\theta)]=0$$\n",
    "\n",
    "\n",
    "Their results show that the dummy variable $D_{t}$ is significant and therefore confirms that there was a structurla break from October 1979 to September 1982."
   ]
  }
 ],
 "metadata": {
  "kernelspec": {
   "display_name": "Python 3",
   "language": "python",
   "name": "python3"
  },
  "language_info": {
   "codemirror_mode": {
    "name": "ipython",
    "version": 3
   },
   "file_extension": ".py",
   "mimetype": "text/x-python",
   "name": "python",
   "nbconvert_exporter": "python",
   "pygments_lexer": "ipython3",
   "version": "3.7.2"
  }
 },
 "nbformat": 4,
 "nbformat_minor": 4
}
